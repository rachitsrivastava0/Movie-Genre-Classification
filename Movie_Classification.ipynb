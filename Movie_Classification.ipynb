{
 "cells": [
  {
   "cell_type": "code",
   "execution_count": 1,
   "id": "46f02e9b",
   "metadata": {},
   "outputs": [
    {
     "name": "stderr",
     "output_type": "stream",
     "text": [
      "C:\\Users\\rachi\\AppData\\Local\\Temp\\ipykernel_2692\\3614994732.py:10: ParserWarning: Falling back to the 'python' engine because the 'c' engine does not support regex separators (separators > 1 char and different from '\\s+' are interpreted as regex); you can avoid this warning by specifying engine='python'.\n",
      "  train_data = pd.read_csv('train_data.txt', sep=':::', names=['movie','genre', 'plot'])\n",
      "C:\\Users\\rachi\\AppData\\Local\\Temp\\ipykernel_2692\\3614994732.py:11: ParserWarning: Falling back to the 'python' engine because the 'c' engine does not support regex separators (separators > 1 char and different from '\\s+' are interpreted as regex); you can avoid this warning by specifying engine='python'.\n",
      "  test_data = pd.read_csv('test_data.txt', sep=':::', names=['movie','plot'])\n"
     ]
    }
   ],
   "source": [
    "import pandas as pd\n",
    "import numpy as np\n",
    "from sklearn.feature_extraction.text import TfidfVectorizer\n",
    "from sklearn.model_selection import train_test_split\n",
    "from sklearn.linear_model import LogisticRegression\n",
    "from sklearn.metrics import classification_report, accuracy_score\n",
    "from sklearn.preprocessing import LabelEncoder\n",
    "\n",
    "\n",
    "train_data = pd.read_csv('train_data.txt', sep=':::', names=['movie','genre', 'plot'])\n",
    "test_data = pd.read_csv('test_data.txt', sep=':::', names=['movie','plot'])\n"
   ]
  },
  {
   "cell_type": "code",
   "execution_count": 2,
   "id": "19ecbca3",
   "metadata": {},
   "outputs": [
    {
     "data": {
      "text/html": [
       "<div>\n",
       "<style scoped>\n",
       "    .dataframe tbody tr th:only-of-type {\n",
       "        vertical-align: middle;\n",
       "    }\n",
       "\n",
       "    .dataframe tbody tr th {\n",
       "        vertical-align: top;\n",
       "    }\n",
       "\n",
       "    .dataframe thead th {\n",
       "        text-align: right;\n",
       "    }\n",
       "</style>\n",
       "<table border=\"1\" class=\"dataframe\">\n",
       "  <thead>\n",
       "    <tr style=\"text-align: right;\">\n",
       "      <th></th>\n",
       "      <th>movie</th>\n",
       "      <th>genre</th>\n",
       "      <th>plot</th>\n",
       "    </tr>\n",
       "  </thead>\n",
       "  <tbody>\n",
       "    <tr>\n",
       "      <th>1</th>\n",
       "      <td>Oscar et la dame rose (2009)</td>\n",
       "      <td>drama</td>\n",
       "      <td>Listening in to a conversation between his do...</td>\n",
       "    </tr>\n",
       "    <tr>\n",
       "      <th>2</th>\n",
       "      <td>Cupid (1997)</td>\n",
       "      <td>thriller</td>\n",
       "      <td>A brother and sister with a past incestuous r...</td>\n",
       "    </tr>\n",
       "    <tr>\n",
       "      <th>3</th>\n",
       "      <td>Young, Wild and Wonderful (1980)</td>\n",
       "      <td>adult</td>\n",
       "      <td>As the bus empties the students for their fie...</td>\n",
       "    </tr>\n",
       "    <tr>\n",
       "      <th>4</th>\n",
       "      <td>The Secret Sin (1915)</td>\n",
       "      <td>drama</td>\n",
       "      <td>To help their unemployed father make ends mee...</td>\n",
       "    </tr>\n",
       "    <tr>\n",
       "      <th>5</th>\n",
       "      <td>The Unrecovered (2007)</td>\n",
       "      <td>drama</td>\n",
       "      <td>The film's title refers not only to the un-re...</td>\n",
       "    </tr>\n",
       "  </tbody>\n",
       "</table>\n",
       "</div>"
      ],
      "text/plain": [
       "                                movie       genre  \\\n",
       "1       Oscar et la dame rose (2009)       drama    \n",
       "2                       Cupid (1997)    thriller    \n",
       "3   Young, Wild and Wonderful (1980)       adult    \n",
       "4              The Secret Sin (1915)       drama    \n",
       "5             The Unrecovered (2007)       drama    \n",
       "\n",
       "                                                plot  \n",
       "1   Listening in to a conversation between his do...  \n",
       "2   A brother and sister with a past incestuous r...  \n",
       "3   As the bus empties the students for their fie...  \n",
       "4   To help their unemployed father make ends mee...  \n",
       "5   The film's title refers not only to the un-re...  "
      ]
     },
     "execution_count": 2,
     "metadata": {},
     "output_type": "execute_result"
    }
   ],
   "source": [
    "train_data.head(5)"
   ]
  },
  {
   "cell_type": "code",
   "execution_count": 3,
   "id": "5054dcad",
   "metadata": {},
   "outputs": [
    {
     "data": {
      "text/html": [
       "<div>\n",
       "<style scoped>\n",
       "    .dataframe tbody tr th:only-of-type {\n",
       "        vertical-align: middle;\n",
       "    }\n",
       "\n",
       "    .dataframe tbody tr th {\n",
       "        vertical-align: top;\n",
       "    }\n",
       "\n",
       "    .dataframe thead th {\n",
       "        text-align: right;\n",
       "    }\n",
       "</style>\n",
       "<table border=\"1\" class=\"dataframe\">\n",
       "  <thead>\n",
       "    <tr style=\"text-align: right;\">\n",
       "      <th></th>\n",
       "      <th>movie</th>\n",
       "      <th>plot</th>\n",
       "    </tr>\n",
       "  </thead>\n",
       "  <tbody>\n",
       "    <tr>\n",
       "      <th>1</th>\n",
       "      <td>Edgar's Lunch (1998)</td>\n",
       "      <td>L.R. Brane loves his life - his car, his apar...</td>\n",
       "    </tr>\n",
       "    <tr>\n",
       "      <th>2</th>\n",
       "      <td>La guerra de papá (1977)</td>\n",
       "      <td>Spain, March 1964: Quico is a very naughty ch...</td>\n",
       "    </tr>\n",
       "    <tr>\n",
       "      <th>3</th>\n",
       "      <td>Off the Beaten Track (2010)</td>\n",
       "      <td>One year in the life of Albin and his family ...</td>\n",
       "    </tr>\n",
       "    <tr>\n",
       "      <th>4</th>\n",
       "      <td>Meu Amigo Hindu (2015)</td>\n",
       "      <td>His father has died, he hasn't spoken with hi...</td>\n",
       "    </tr>\n",
       "    <tr>\n",
       "      <th>5</th>\n",
       "      <td>Er nu zhai (1955)</td>\n",
       "      <td>Before he was known internationally as a mart...</td>\n",
       "    </tr>\n",
       "  </tbody>\n",
       "</table>\n",
       "</div>"
      ],
      "text/plain": [
       "                           movie  \\\n",
       "1          Edgar's Lunch (1998)    \n",
       "2      La guerra de papá (1977)    \n",
       "3   Off the Beaten Track (2010)    \n",
       "4        Meu Amigo Hindu (2015)    \n",
       "5             Er nu zhai (1955)    \n",
       "\n",
       "                                                plot  \n",
       "1   L.R. Brane loves his life - his car, his apar...  \n",
       "2   Spain, March 1964: Quico is a very naughty ch...  \n",
       "3   One year in the life of Albin and his family ...  \n",
       "4   His father has died, he hasn't spoken with hi...  \n",
       "5   Before he was known internationally as a mart...  "
      ]
     },
     "execution_count": 3,
     "metadata": {},
     "output_type": "execute_result"
    }
   ],
   "source": [
    "test_data.head(5)"
   ]
  },
  {
   "cell_type": "code",
   "execution_count": 4,
   "id": "17993319",
   "metadata": {},
   "outputs": [
    {
     "name": "stdout",
     "output_type": "stream",
     "text": [
      "                                              movie          genre  \\\n",
      "1                     Oscar et la dame rose (2009)          drama    \n",
      "2                                     Cupid (1997)       thriller    \n",
      "3                 Young, Wild and Wonderful (1980)          adult    \n",
      "4                            The Secret Sin (1915)          drama    \n",
      "5                           The Unrecovered (2007)          drama    \n",
      "...                                             ...            ...   \n",
      "54210                              \"Bonino\" (1953)         comedy    \n",
      "54211                  Dead Girls Don't Cry (????)         horror    \n",
      "54212    Ronald Goedemondt: Ze bestaan echt (2008)    documentary    \n",
      "54213                     Make Your Own Bed (1944)         comedy    \n",
      "54214   Nature's Fury: Storm of the Century (2006)        history    \n",
      "\n",
      "                                                    plot  \n",
      "1       Listening in to a conversation between his do...  \n",
      "2       A brother and sister with a past incestuous r...  \n",
      "3       As the bus empties the students for their fie...  \n",
      "4       To help their unemployed father make ends mee...  \n",
      "5       The film's title refers not only to the un-re...  \n",
      "...                                                  ...  \n",
      "54210   This short-lived NBC live sitcom centered on ...  \n",
      "54211   The NEXT Generation of EXPLOITATION. The sist...  \n",
      "54212   Ze bestaan echt, is a stand-up comedy about g...  \n",
      "54213   Walter and Vivian live in the country and hav...  \n",
      "54214   On Labor Day Weekend, 1935, the most intense ...  \n",
      "\n",
      "[54214 rows x 3 columns]\n"
     ]
    }
   ],
   "source": [
    "train_data.drop_duplicates(inplace=True)\n",
    "print(train_data)"
   ]
  },
  {
   "cell_type": "code",
   "execution_count": 5,
   "id": "87481f68",
   "metadata": {},
   "outputs": [
    {
     "name": "stdout",
     "output_type": "stream",
     "text": [
      "                                  movie  \\\n",
      "1                 Edgar's Lunch (1998)    \n",
      "2             La guerra de papá (1977)    \n",
      "3          Off the Beaten Track (2010)    \n",
      "4               Meu Amigo Hindu (2015)    \n",
      "5                    Er nu zhai (1955)    \n",
      "...                                 ...   \n",
      "54196   \"Tales of Light & Dark\" (2013)    \n",
      "54197      Der letzte Mohikaner (1965)    \n",
      "54198              Oliver Twink (2007)    \n",
      "54199                Slipstream (1973)    \n",
      "54200        Curitiba Zero Grau (2010)    \n",
      "\n",
      "                                                    plot  \n",
      "1       L.R. Brane loves his life - his car, his apar...  \n",
      "2       Spain, March 1964: Quico is a very naughty ch...  \n",
      "3       One year in the life of Albin and his family ...  \n",
      "4       His father has died, he hasn't spoken with hi...  \n",
      "5       Before he was known internationally as a mart...  \n",
      "...                                                  ...  \n",
      "54196   Covering multiple genres, Tales of Light & Da...  \n",
      "54197   As Alice and Cora Munro attempt to find their...  \n",
      "54198   A movie 169 years in the making. Oliver Twist...  \n",
      "54199   Popular, but mysterious rock D.J Mike Mallard...  \n",
      "54200   Curitiba is a city in movement, with rhythms ...  \n",
      "\n",
      "[54200 rows x 2 columns]\n"
     ]
    }
   ],
   "source": [
    "test_data.drop_duplicates(inplace=True)\n",
    "print(test_data)"
   ]
  },
  {
   "cell_type": "code",
   "execution_count": 6,
   "id": "8d251ef4",
   "metadata": {},
   "outputs": [
    {
     "name": "stdout",
     "output_type": "stream",
     "text": [
      "Train TF-IDF shape: (54214, 3000)\n",
      "Test TF-IDF shape: (54200, 3000)\n"
     ]
    }
   ],
   "source": [
    "# Set to a lower number like 3000 or 1000\n",
    "tfidf = TfidfVectorizer(stop_words='english', max_features=3000)\n",
    "\n",
    "# Transform training and test data\n",
    "X = tfidf.fit_transform(train_data['plot'])\n",
    "X_test = tfidf.transform(test_data['plot'])\n",
    "\n",
    "# Print shapes to verify\n",
    "print(\"Train TF-IDF shape:\", X.shape)\n",
    "print(\"Test TF-IDF shape:\", X_test.shape)\n"
   ]
  },
  {
   "cell_type": "code",
   "execution_count": 7,
   "id": "d55d034a",
   "metadata": {},
   "outputs": [
    {
     "name": "stdout",
     "output_type": "stream",
     "text": [
      "(54214, 3)\n",
      "(54214,)\n"
     ]
    }
   ],
   "source": [
    "print(train_data.shape)            # Should be (54214, x)\n",
    "print(train_data['genre'].shape)   # Should be (54214,)\n"
   ]
  },
  {
   "cell_type": "code",
   "execution_count": 8,
   "id": "86953a53",
   "metadata": {},
   "outputs": [
    {
     "data": {
      "text/plain": [
       "array([ 8, 24,  1, ...,  7,  5, 12])"
      ]
     },
     "execution_count": 8,
     "metadata": {},
     "output_type": "execute_result"
    }
   ],
   "source": [
    "# Encode genres (full column — no unique())\n",
    "le = LabelEncoder()\n",
    "y = le.fit_transform(train_data['genre'])\n",
    "y"
   ]
  },
  {
   "cell_type": "code",
   "execution_count": 9,
   "id": "2faefe0c",
   "metadata": {},
   "outputs": [
    {
     "name": "stdout",
     "output_type": "stream",
     "text": [
      "X shape: (54214, 3000)\n",
      "y shape: (54214,)\n"
     ]
    }
   ],
   "source": [
    "print(\"X shape:\", X.shape)    # (54214, N)\n",
    "print(\"y shape:\", y.shape)    # (54214,)\n"
   ]
  },
  {
   "cell_type": "code",
   "execution_count": 10,
   "id": "113ecf9e",
   "metadata": {},
   "outputs": [],
   "source": [
    "X_train, X_val, y_train, y_val = train_test_split(X, y, test_size=0.2, random_state=42)"
   ]
  },
  {
   "cell_type": "code",
   "execution_count": 11,
   "id": "5ac3ce6f",
   "metadata": {},
   "outputs": [
    {
     "name": "stdout",
     "output_type": "stream",
     "text": [
      "               precision    recall  f1-score   support\n",
      "\n",
      "      action        0.48      0.23      0.31       263\n",
      "       adult        0.66      0.21      0.31       112\n",
      "   adventure        0.40      0.14      0.20       139\n",
      "   animation        0.58      0.11      0.18       104\n",
      "   biography        0.00      0.00      0.00        61\n",
      "      comedy        0.50      0.57      0.54      1443\n",
      "       crime        0.20      0.02      0.03       107\n",
      " documentary        0.67      0.84      0.74      2659\n",
      "       drama        0.54      0.77      0.63      2697\n",
      "      family        0.43      0.08      0.13       150\n",
      "     fantasy        0.00      0.00      0.00        74\n",
      "   game-show        0.95      0.50      0.66        40\n",
      "     history        0.00      0.00      0.00        45\n",
      "      horror        0.61      0.53      0.57       431\n",
      "       music        0.63      0.50      0.56       144\n",
      "     musical        1.00      0.04      0.08        50\n",
      "     mystery        1.00      0.04      0.07        56\n",
      "        news        1.00      0.06      0.11        34\n",
      "  reality-tv        0.47      0.19      0.27       192\n",
      "     romance        0.17      0.01      0.02       151\n",
      "      sci-fi        0.55      0.24      0.33       143\n",
      "       short        0.46      0.33      0.38      1045\n",
      "       sport        0.65      0.22      0.32        93\n",
      "   talk-show        0.60      0.15      0.24        81\n",
      "    thriller        0.38      0.14      0.20       309\n",
      "         war        0.00      0.00      0.00        20\n",
      "     western        0.93      0.68      0.78       200\n",
      "\n",
      "     accuracy                           0.57     10843\n",
      "    macro avg       0.51      0.24      0.28     10843\n",
      " weighted avg       0.55      0.57      0.53     10843\n",
      "\n"
     ]
    },
    {
     "name": "stderr",
     "output_type": "stream",
     "text": [
      "C:\\ProgramData\\anaconda4\\Lib\\site-packages\\sklearn\\metrics\\_classification.py:1469: UndefinedMetricWarning: Precision and F-score are ill-defined and being set to 0.0 in labels with no predicted samples. Use `zero_division` parameter to control this behavior.\n",
      "  _warn_prf(average, modifier, msg_start, len(result))\n",
      "C:\\ProgramData\\anaconda4\\Lib\\site-packages\\sklearn\\metrics\\_classification.py:1469: UndefinedMetricWarning: Precision and F-score are ill-defined and being set to 0.0 in labels with no predicted samples. Use `zero_division` parameter to control this behavior.\n",
      "  _warn_prf(average, modifier, msg_start, len(result))\n",
      "C:\\ProgramData\\anaconda4\\Lib\\site-packages\\sklearn\\metrics\\_classification.py:1469: UndefinedMetricWarning: Precision and F-score are ill-defined and being set to 0.0 in labels with no predicted samples. Use `zero_division` parameter to control this behavior.\n",
      "  _warn_prf(average, modifier, msg_start, len(result))\n"
     ]
    }
   ],
   "source": [
    "model = LogisticRegression(max_iter=1000)\n",
    "model.fit(X_train, y_train)\n",
    "\n",
    "# Validation\n",
    "y_pred = model.predict(X_val)\n",
    "print(classification_report(y_val, y_pred, target_names=le.classes_))\n"
   ]
  },
  {
   "cell_type": "code",
   "execution_count": 12,
   "id": "d4598025",
   "metadata": {},
   "outputs": [
    {
     "data": {
      "text/plain": [
       "array([5, 8, 7, ..., 5, 8, 7])"
      ]
     },
     "execution_count": 12,
     "metadata": {},
     "output_type": "execute_result"
    }
   ],
   "source": [
    "test_preds = model.predict(X_test)\n",
    "test_data['predicted_genre'] = le.inverse_transform(test_preds)\n",
    "test_preds"
   ]
  },
  {
   "cell_type": "code",
   "execution_count": 13,
   "id": "90799385",
   "metadata": {},
   "outputs": [
    {
     "data": {
      "text/html": [
       "<div>\n",
       "<style scoped>\n",
       "    .dataframe tbody tr th:only-of-type {\n",
       "        vertical-align: middle;\n",
       "    }\n",
       "\n",
       "    .dataframe tbody tr th {\n",
       "        vertical-align: top;\n",
       "    }\n",
       "\n",
       "    .dataframe thead th {\n",
       "        text-align: right;\n",
       "    }\n",
       "</style>\n",
       "<table border=\"1\" class=\"dataframe\">\n",
       "  <thead>\n",
       "    <tr style=\"text-align: right;\">\n",
       "      <th></th>\n",
       "      <th>movie</th>\n",
       "      <th>plot</th>\n",
       "      <th>predicted_genre</th>\n",
       "    </tr>\n",
       "  </thead>\n",
       "  <tbody>\n",
       "    <tr>\n",
       "      <th>1</th>\n",
       "      <td>Edgar's Lunch (1998)</td>\n",
       "      <td>L.R. Brane loves his life - his car, his apar...</td>\n",
       "      <td>comedy</td>\n",
       "    </tr>\n",
       "    <tr>\n",
       "      <th>2</th>\n",
       "      <td>La guerra de papá (1977)</td>\n",
       "      <td>Spain, March 1964: Quico is a very naughty ch...</td>\n",
       "      <td>drama</td>\n",
       "    </tr>\n",
       "    <tr>\n",
       "      <th>3</th>\n",
       "      <td>Off the Beaten Track (2010)</td>\n",
       "      <td>One year in the life of Albin and his family ...</td>\n",
       "      <td>documentary</td>\n",
       "    </tr>\n",
       "    <tr>\n",
       "      <th>4</th>\n",
       "      <td>Meu Amigo Hindu (2015)</td>\n",
       "      <td>His father has died, he hasn't spoken with hi...</td>\n",
       "      <td>drama</td>\n",
       "    </tr>\n",
       "    <tr>\n",
       "      <th>5</th>\n",
       "      <td>Er nu zhai (1955)</td>\n",
       "      <td>Before he was known internationally as a mart...</td>\n",
       "      <td>drama</td>\n",
       "    </tr>\n",
       "    <tr>\n",
       "      <th>...</th>\n",
       "      <td>...</td>\n",
       "      <td>...</td>\n",
       "      <td>...</td>\n",
       "    </tr>\n",
       "    <tr>\n",
       "      <th>54196</th>\n",
       "      <td>\"Tales of Light &amp; Dark\" (2013)</td>\n",
       "      <td>Covering multiple genres, Tales of Light &amp; Da...</td>\n",
       "      <td>drama</td>\n",
       "    </tr>\n",
       "    <tr>\n",
       "      <th>54197</th>\n",
       "      <td>Der letzte Mohikaner (1965)</td>\n",
       "      <td>As Alice and Cora Munro attempt to find their...</td>\n",
       "      <td>action</td>\n",
       "    </tr>\n",
       "    <tr>\n",
       "      <th>54198</th>\n",
       "      <td>Oliver Twink (2007)</td>\n",
       "      <td>A movie 169 years in the making. Oliver Twist...</td>\n",
       "      <td>comedy</td>\n",
       "    </tr>\n",
       "    <tr>\n",
       "      <th>54199</th>\n",
       "      <td>Slipstream (1973)</td>\n",
       "      <td>Popular, but mysterious rock D.J Mike Mallard...</td>\n",
       "      <td>drama</td>\n",
       "    </tr>\n",
       "    <tr>\n",
       "      <th>54200</th>\n",
       "      <td>Curitiba Zero Grau (2010)</td>\n",
       "      <td>Curitiba is a city in movement, with rhythms ...</td>\n",
       "      <td>documentary</td>\n",
       "    </tr>\n",
       "  </tbody>\n",
       "</table>\n",
       "<p>54200 rows × 3 columns</p>\n",
       "</div>"
      ],
      "text/plain": [
       "                                  movie  \\\n",
       "1                 Edgar's Lunch (1998)    \n",
       "2             La guerra de papá (1977)    \n",
       "3          Off the Beaten Track (2010)    \n",
       "4               Meu Amigo Hindu (2015)    \n",
       "5                    Er nu zhai (1955)    \n",
       "...                                 ...   \n",
       "54196   \"Tales of Light & Dark\" (2013)    \n",
       "54197      Der letzte Mohikaner (1965)    \n",
       "54198              Oliver Twink (2007)    \n",
       "54199                Slipstream (1973)    \n",
       "54200        Curitiba Zero Grau (2010)    \n",
       "\n",
       "                                                    plot predicted_genre  \n",
       "1       L.R. Brane loves his life - his car, his apar...         comedy   \n",
       "2       Spain, March 1964: Quico is a very naughty ch...          drama   \n",
       "3       One year in the life of Albin and his family ...    documentary   \n",
       "4       His father has died, he hasn't spoken with hi...          drama   \n",
       "5       Before he was known internationally as a mart...          drama   \n",
       "...                                                  ...             ...  \n",
       "54196   Covering multiple genres, Tales of Light & Da...          drama   \n",
       "54197   As Alice and Cora Munro attempt to find their...         action   \n",
       "54198   A movie 169 years in the making. Oliver Twist...         comedy   \n",
       "54199   Popular, but mysterious rock D.J Mike Mallard...          drama   \n",
       "54200   Curitiba is a city in movement, with rhythms ...    documentary   \n",
       "\n",
       "[54200 rows x 3 columns]"
      ]
     },
     "execution_count": 13,
     "metadata": {},
     "output_type": "execute_result"
    }
   ],
   "source": [
    "test_data[['movie', 'predicted_genre']].to_csv('submission.csv', index=False)\n",
    "test_data"
   ]
  },
  {
   "cell_type": "code",
   "execution_count": 14,
   "id": "1a6f2aa9",
   "metadata": {},
   "outputs": [
    {
     "data": {
      "image/png": "[encoded data removed]",
      "text/plain": [
       "<Figure size 1200x600 with 1 Axes>"
      ]
     },
     "metadata": {},
     "output_type": "display_data"
    }
   ],
   "source": [
    "import seaborn as sns\n",
    "import matplotlib.pyplot as plt\n",
    "\n",
    "plt.figure(figsize=(12, 6))\n",
    "sns.countplot(data=train_data, x='genre', order=train_data['genre'].value_counts().index)\n",
    "plt.title(\"Genre Distribution in Training Data\")\n",
    "plt.xticks(rotation=45)\n",
    "plt.show()\n"
   ]
  },
  {
   "cell_type": "code",
   "execution_count": 15,
   "id": "577f25a0",
   "metadata": {},
   "outputs": [
    {
     "name": "stdout",
     "output_type": "stream",
     "text": [
      "No plots found for genre: Action\n"
     ]
    }
   ],
   "source": [
    "genre_to_check = \"Action\"  # Change this to any genre like \"Comedy\", \"Drama\", etc.\n",
    "\n",
    "# Filter rows where genre matches\n",
    "filtered = train_data[train_data['genre'] == genre_to_check]\n",
    "\n",
    "if not filtered.empty:\n",
    "    genre_tfidf = tfidf.transform(filtered['plot'])\n",
    "    mean_tfidf = genre_tfidf.mean(axis=0).A1  # Get average TF-IDF score\n",
    "    feature_names = tfidf.get_feature_names_out()\n",
    "\n",
    "    # Get top 20 words\n",
    "    top_indices = mean_tfidf.argsort()[::-1][:20]\n",
    "    top_words = [feature_names[i] for i in top_indices]\n",
    "\n",
    "    # Plot them\n",
    "    import seaborn as sns\n",
    "    import matplotlib.pyplot as plt\n",
    "\n",
    "    plt.figure(figsize=(10, 6))\n",
    "    sns.barplot(x=mean_tfidf[top_indices], y=top_words)\n",
    "    plt.title(f\"Top 20 TF-IDF Words in '{genre_to_check}' Genre\")\n",
    "    plt.show()\n",
    "else:\n",
    "    print(f\"No plots found for genre: {genre_to_check}\")\n"
   ]
  }
 ],
 "metadata": {
  "kernelspec": {
   "display_name": "Python 3 (ipykernel)",
   "language": "python",
   "name": "python3"
  },
  "language_info": {
   "codemirror_mode": {
    "name": "ipython",
    "version": 3
   },
   "file_extension": ".py",
   "mimetype": "text/x-python",
   "name": "python",
   "nbconvert_exporter": "python",
   "pygments_lexer": "ipython3",
   "version": "3.11.5"
  }
 },
 "nbformat": 4,
 "nbformat_minor": 5
}
